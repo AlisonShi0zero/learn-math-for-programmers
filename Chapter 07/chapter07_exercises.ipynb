{
 "cells": [
  {
   "cell_type": "code",
   "execution_count": 5,
   "id": "d626b6ba-3538-4cef-b95e-09376a1c8145",
   "metadata": {},
   "outputs": [],
   "source": [
    "from vectors import *\n",
    "\n",
    "def plane_equation(p1,p2,p3):\n",
    "    paralle1 = subtract(p2, p1)\n",
    "    paralle2 = subtract(p3, p1)\n",
    "    a,b,c = cross(paralle1, paralle2)\n",
    "    d = dot((a,b,c), p1)\n",
    "    return a,b,c,d"
   ]
  },
  {
   "cell_type": "code",
   "execution_count": 7,
   "id": "9f962b38-f100-4085-b622-b2ced88250f4",
   "metadata": {},
   "outputs": [
    {
     "data": {
      "text/plain": [
       "(3, 3, 3, 9)"
      ]
     },
     "execution_count": 7,
     "metadata": {},
     "output_type": "execute_result"
    }
   ],
   "source": [
    "plane_equation((1,1,1), (3,0,0), (0,3,0))"
   ]
  },
  {
   "cell_type": "code",
   "execution_count": 25,
   "id": "7ba3c5c3-99ce-4527-9dc3-875ad2e2359d",
   "metadata": {},
   "outputs": [],
   "source": [
    "import numpy as np\n",
    "matrix = np.array(((1,1,1,0,0), (0,0,0,0,1), (0,1,0,0,0), (0,0,0,1,0), (1,0,0,0,0)))\n",
    "vector = np.array((-2,3,1,-1,0))"
   ]
  },
  {
   "cell_type": "code",
   "execution_count": 27,
   "id": "7472ed56-62c7-4c1d-b607-b9ab6f85d0c4",
   "metadata": {},
   "outputs": [
    {
     "data": {
      "text/plain": [
       "array([ 0.,  1., -3., -1.,  3.])"
      ]
     },
     "execution_count": 27,
     "metadata": {},
     "output_type": "execute_result"
    }
   ],
   "source": [
    "np.linalg.solve(matrix, vector)"
   ]
  },
  {
   "cell_type": "code",
   "execution_count": 29,
   "id": "51868b76-2382-4939-840f-ae98cf647cac",
   "metadata": {},
   "outputs": [],
   "source": [
    "matrix = np.array(((1,1,-1),(0,2,-1), (1,0,1)))\n",
    "inv_matrix = np.linalg.inv(matrix)"
   ]
  },
  {
   "cell_type": "code",
   "execution_count": 31,
   "id": "01ff3a0c-5726-4fb9-86fa-3d946be9ca80",
   "metadata": {},
   "outputs": [
    {
     "data": {
      "text/plain": [
       "array([[ 0.66666667, -0.33333333,  0.33333333],\n",
       "       [-0.33333333,  0.66666667,  0.33333333],\n",
       "       [-0.66666667,  0.33333333,  0.66666667]])"
      ]
     },
     "execution_count": 31,
     "metadata": {},
     "output_type": "execute_result"
    }
   ],
   "source": [
    "inv_matrix"
   ]
  },
  {
   "cell_type": "code",
   "execution_count": 33,
   "id": "8650930e-e189-4519-be4c-981d4a826313",
   "metadata": {},
   "outputs": [],
   "source": [
    "vector = np.array((-1,3,2))"
   ]
  },
  {
   "cell_type": "code",
   "execution_count": 35,
   "id": "67d51e0f-337f-4795-8bb2-7a2e698d18d5",
   "metadata": {},
   "outputs": [
    {
     "data": {
      "text/plain": [
       "array([-1.,  3.,  3.])"
      ]
     },
     "execution_count": 35,
     "metadata": {},
     "output_type": "execute_result"
    }
   ],
   "source": [
    "np.matmul(inv_matrix, vector)"
   ]
  },
  {
   "cell_type": "code",
   "execution_count": null,
   "id": "728a5413-ef10-4953-a365-27a1325632f0",
   "metadata": {},
   "outputs": [],
   "source": []
  }
 ],
 "metadata": {
  "kernelspec": {
   "display_name": "Python 3 (ipykernel)",
   "language": "python",
   "name": "python3"
  },
  "language_info": {
   "codemirror_mode": {
    "name": "ipython",
    "version": 3
   },
   "file_extension": ".py",
   "mimetype": "text/x-python",
   "name": "python",
   "nbconvert_exporter": "python",
   "pygments_lexer": "ipython3",
   "version": "3.12.4"
  }
 },
 "nbformat": 4,
 "nbformat_minor": 5
}
