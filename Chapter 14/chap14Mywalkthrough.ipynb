{
 "cells": [
  {
   "cell_type": "code",
   "execution_count": 1,
   "id": "989f71aa-6997-4c48-a6b7-4291dabd1aa1",
   "metadata": {},
   "outputs": [],
   "source": [
    "from vectors import length\n",
    "def secant_slope(f, xmin, xmax):\n",
    "    return (f(xmax) - f(xmin)) / (xmax-xmin)\n",
    "\n",
    "def approx_derivative(f, x, dx=1e-6):\n",
    "    return secant_slope(f, x-dx, x+dx)\n",
    "\n",
    "def approx_gradient(f, x0, y0, dx=1e-6):\n",
    "    partial_x = approx_derivative(lambda x:f(x, y0), x0, dx=dx)\n",
    "    partial_y = approx_derivative(lambda y:f(x0, y), y0, dx=dx)\n",
    "    return (partial_x, partial_y)\n",
    "\n",
    "def gradient_descent(f, xstart, ystart, tolerance=1e-6):\n",
    "    x = xstart\n",
    "    y = ystart\n",
    "    grad = approx_gradient(f, x, y)\n",
    "    while length(grad) > tolerance:\n",
    "        x -= 0.01 * grad[0]\n",
    "        y -= 0.01 * grad[1]\n",
    "        grad = approx_gradient(f, x, y)\n",
    "    return x,y\n"
   ]
  },
  {
   "cell_type": "code",
   "execution_count": 2,
   "id": "85ab93e5-76fb-4df7-b7ab-473fc8d9e927",
   "metadata": {},
   "outputs": [],
   "source": [
    "def sum_error(f, data):\n",
    "    errors = [abs(f(x)-y) for (x,y) in data]\n",
    "    return sum(errors)"
   ]
  },
  {
   "cell_type": "code",
   "execution_count": 3,
   "id": "322dd450-edc1-4775-9947-2fb6ee34bf43",
   "metadata": {},
   "outputs": [],
   "source": [
    "def f(x):\n",
    "    return 2*x\n",
    "\n",
    "def g(x):\n",
    "    return 1-x"
   ]
  },
  {
   "cell_type": "code",
   "execution_count": 4,
   "id": "a0ba4e50-757e-478b-97d1-6adc36c890f0",
   "metadata": {},
   "outputs": [],
   "source": [
    "test_data = [\n",
    "     (-1.0, -2.0137862606487387),\n",
    "     (-0.9, -1.7730222478628337),\n",
    "     (-0.8, -1.5510125944820812),\n",
    "     (-0.7, -1.6071832453434687),\n",
    "     (-0.6, -0.7530149734137868),\n",
    "     (-0.5, -1.4185018340443283),\n",
    "     (-0.4, -0.6055579756271128),\n",
    "     (-0.3, -1.0067254915961406),\n",
    "     (-0.2, -0.4382360549665138),\n",
    "     (-0.1, -0.17621952751051906),\n",
    "     (0.0, -0.12218090884626329),\n",
    "     (0.1, 0.07428573423209717),\n",
    "     (0.2, 0.4268795998864943),\n",
    "     (0.3, 0.7254661223608084),\n",
    "     (0.4, 0.04798697977420063),\n",
    "     (0.5, 1.1578103735448106),\n",
    "     (0.6, 1.5684111061340824),\n",
    "     (0.7, 1.157745051031345),\n",
    "     (0.8, 2.1744401978240675),\n",
    "     (0.9, 1.6380001974121732),\n",
    "     (1.0, 2.538951262545233)\n",
    "]"
   ]
  },
  {
   "cell_type": "code",
   "execution_count": 5,
   "id": "15013d13-e1ab-422b-995b-d759d6ac9e68",
   "metadata": {},
   "outputs": [
    {
     "data": {
      "text/plain": [
       "5.0217271763948"
      ]
     },
     "execution_count": 5,
     "metadata": {},
     "output_type": "execute_result"
    }
   ],
   "source": [
    "sum_error(f, test_data)"
   ]
  },
  {
   "cell_type": "code",
   "execution_count": 6,
   "id": "69a43daf-5ef9-40a4-929c-c9b3dd95a0ba",
   "metadata": {},
   "outputs": [
    {
     "data": {
      "text/plain": [
       "38.47711311130151"
      ]
     },
     "execution_count": 6,
     "metadata": {},
     "output_type": "execute_result"
    }
   ],
   "source": [
    "sum_error(g, test_data)"
   ]
  },
  {
   "cell_type": "code",
   "execution_count": 7,
   "id": "1fea0de2-a0bc-49c0-b09b-38d3aff7765e",
   "metadata": {},
   "outputs": [],
   "source": [
    "def sum_squared_error(f, data):\n",
    "    squared_errors = [(f(x)-y)**2 for (x, y) in data]\n",
    "    return sum(squared_errors)"
   ]
  },
  {
   "cell_type": "code",
   "execution_count": 8,
   "id": "fab002ce-d03a-46c5-ad86-05a5ed07052d",
   "metadata": {},
   "outputs": [
    {
     "data": {
      "text/plain": [
       "2.105175107540148"
      ]
     },
     "execution_count": 8,
     "metadata": {},
     "output_type": "execute_result"
    }
   ],
   "source": [
    "sum_squared_error(f, test_data)"
   ]
  },
  {
   "cell_type": "code",
   "execution_count": 9,
   "id": "627abb73-b768-4b6b-a20d-ec17d8e5abec",
   "metadata": {},
   "outputs": [
    {
     "data": {
      "text/plain": [
       "97.10788792832028"
      ]
     },
     "execution_count": 9,
     "metadata": {},
     "output_type": "execute_result"
    }
   ],
   "source": [
    "sum_squared_error(g, test_data)"
   ]
  },
  {
   "cell_type": "code",
   "execution_count": 10,
   "id": "a4368532-185c-4ff7-958c-51339aea0531",
   "metadata": {},
   "outputs": [],
   "source": [
    "def line(x):\n",
    "    return 3*x-2\n",
    "\n",
    "points = [(x, line(x)) for x in range(0, 10)]"
   ]
  },
  {
   "cell_type": "code",
   "execution_count": 11,
   "id": "59b151b2-b3a9-43d6-9973-8db7313dec74",
   "metadata": {},
   "outputs": [
    {
     "data": {
      "text/plain": [
       "0"
      ]
     },
     "execution_count": 11,
     "metadata": {},
     "output_type": "execute_result"
    }
   ],
   "source": [
    "sum_error(line,points)"
   ]
  },
  {
   "cell_type": "code",
   "execution_count": 12,
   "id": "8145b867-2e19-4f6b-b857-167a76f86f90",
   "metadata": {},
   "outputs": [
    {
     "data": {
      "text/plain": [
       "0"
      ]
     },
     "execution_count": 12,
     "metadata": {},
     "output_type": "execute_result"
    }
   ],
   "source": [
    "sum_squared_error(line,points)"
   ]
  },
  {
   "cell_type": "code",
   "execution_count": 13,
   "id": "56802737-19ec-4858-bd92-f1c4ab4d0eca",
   "metadata": {},
   "outputs": [
    {
     "data": {
      "text/plain": [
       "16.607900877665685"
      ]
     },
     "execution_count": 13,
     "metadata": {},
     "output_type": "execute_result"
    }
   ],
   "source": [
    "sum_squared_error(lambda x: x+0.5, test_data)"
   ]
  },
  {
   "cell_type": "code",
   "execution_count": 14,
   "id": "47864859-1d91-4097-92f6-fc8d3d95f23d",
   "metadata": {},
   "outputs": [
    {
     "data": {
      "text/plain": [
       "23.1942461283472"
      ]
     },
     "execution_count": 14,
     "metadata": {},
     "output_type": "execute_result"
    }
   ],
   "source": [
    "sum_squared_error(lambda x: 2*x-1, test_data)"
   ]
  },
  {
   "cell_type": "code",
   "execution_count": 15,
   "id": "0acb9d69-dcf0-4bcd-866c-184888477eef",
   "metadata": {},
   "outputs": [],
   "source": [
    "def p4(x):\n",
    "    return 21000 - 0.09*x"
   ]
  },
  {
   "cell_type": "code",
   "execution_count": 16,
   "id": "db9f5f15-d1c9-4353-a8c1-83d739b3e77a",
   "metadata": {},
   "outputs": [],
   "source": [
    "from car_data import priuses\n",
    "\n",
    "prius_mileage_price = [(p.mileage, p.price) for p in priuses]"
   ]
  },
  {
   "cell_type": "code",
   "execution_count": 17,
   "id": "13b29c0a-38e6-4ff4-9d72-6d904bf1b6d4",
   "metadata": {},
   "outputs": [
    {
     "data": {
      "text/plain": [
       "19776980226.7136"
      ]
     },
     "execution_count": 17,
     "metadata": {},
     "output_type": "execute_result"
    }
   ],
   "source": [
    "sum_squared_error(p4, prius_mileage_price)"
   ]
  },
  {
   "cell_type": "code",
   "execution_count": 18,
   "id": "2d6dc0a5-edbf-4b97-ab7e-922a07dc4441",
   "metadata": {},
   "outputs": [],
   "source": [
    "def test_data_coefficient_cost(a):\n",
    "    def f(x):\n",
    "        return a * x\n",
    "    return sum_squared_error(f, test_data)"
   ]
  },
  {
   "cell_type": "code",
   "execution_count": 19,
   "id": "37b33b82-bdab-4f48-875c-f67258dcd81b",
   "metadata": {},
   "outputs": [],
   "source": [
    "def coefficient_cost(a, b):\n",
    "    def p(x):\n",
    "        return a * x + b\n",
    "    return sum_squared_error(p, prius_mileage_price)"
   ]
  },
  {
   "cell_type": "code",
   "execution_count": 20,
   "id": "caa469b6-5a71-469d-ae90-2eada8e17f81",
   "metadata": {},
   "outputs": [
    {
     "data": {
      "text/plain": [
       "(2.103718204723903, 0.0021207385859157535)"
      ]
     },
     "execution_count": 20,
     "metadata": {},
     "output_type": "execute_result"
    }
   ],
   "source": [
    "def test_data_coefficient_cost_ab(a, b):\n",
    "    def f(x):\n",
    "        return a*x+b\n",
    "    return sum_squared_error(f, test_data)\n",
    "\n",
    "gradient_descent(test_data_coefficient_cost_ab, 1, 1)"
   ]
  },
  {
   "cell_type": "code",
   "execution_count": 50,
   "id": "649fcb19-047a-42b5-b655-3cc7d0494069",
   "metadata": {},
   "outputs": [],
   "source": [
    "from math import exp\n",
    "\n",
    "def exp_coefficient_cost(q, r):\n",
    "    def f(x):\n",
    "        return q*exp(r*x)\n",
    "    return sum_squared_error(f, prius_mileage_price)"
   ]
  },
  {
   "cell_type": "code",
   "execution_count": 46,
   "id": "dfea2f99-433c-47b7-af78-73f3556a4e6c",
   "metadata": {},
   "outputs": [],
   "source": [
    "def scaled_exp_coefficient_cost(s, t):\n",
    "    return exp_coefficient_cost(30000*s, 1e-4*t)/1e11"
   ]
  },
  {
   "cell_type": "code",
   "execution_count": 66,
   "id": "fdb0b354-286a-4ea0-b707-caf9bb93a55c",
   "metadata": {},
   "outputs": [],
   "source": [
    "s,t = gradient_descent(scaled_exp_coefficient_cost, 0, 0)"
   ]
  },
  {
   "cell_type": "code",
   "execution_count": 54,
   "id": "74c4b112-a7d8-49c1-b6aa-5340b876951d",
   "metadata": {},
   "outputs": [
    {
     "data": {
      "text/plain": [
       "(0.6235404892844091, -0.07686877731083401)"
      ]
     },
     "execution_count": 54,
     "metadata": {},
     "output_type": "execute_result"
    }
   ],
   "source": [
    "(s,t)"
   ]
  },
  {
   "cell_type": "code",
   "execution_count": 68,
   "id": "82dd46d7-c664-4550-8ea5-b3d38bea32d9",
   "metadata": {},
   "outputs": [],
   "source": [
    "q,r = 30000*s, 1e-4*t"
   ]
  },
  {
   "cell_type": "code",
   "execution_count": 58,
   "id": "f2a89193-9db8-4b9d-9d29-64557f27a427",
   "metadata": {},
   "outputs": [
    {
     "data": {
      "text/plain": [
       "(18706.214678532273, -7.686877731083401e-06)"
      ]
     },
     "execution_count": 58,
     "metadata": {},
     "output_type": "execute_result"
    }
   ],
   "source": [
    "(q,r)"
   ]
  },
  {
   "cell_type": "code",
   "execution_count": 70,
   "id": "16715b16-ac26-4e6e-ac2d-1ee166013dbf",
   "metadata": {},
   "outputs": [
    {
     "data": {
      "text/plain": [
       "13497959831.297209"
      ]
     },
     "execution_count": 70,
     "metadata": {},
     "output_type": "execute_result"
    }
   ],
   "source": [
    "exp_coefficient_cost(q,r)"
   ]
  },
  {
   "cell_type": "code",
   "execution_count": 72,
   "id": "f6f58b3b-a85c-4587-965f-46d7d6403fc7",
   "metadata": {},
   "outputs": [
    {
     "data": {
      "text/plain": [
       "0.926011359334937"
      ]
     },
     "execution_count": 72,
     "metadata": {},
     "output_type": "execute_result"
    }
   ],
   "source": [
    "exp(10000*r)"
   ]
  },
  {
   "cell_type": "code",
   "execution_count": 194,
   "id": "7e501730-ef33-4bd5-9f23-74d5d1b2e55d",
   "metadata": {},
   "outputs": [],
   "source": [
    "def exponential_cost2(r):\n",
    "    def f(x):\n",
    "        return 25000*exp(r*x)\n",
    "    return sum_squared_error(f, prius_mileage_price)\n",
    "\n",
    "def scaled_exponential_cost2(t):\n",
    "    return exponential_cost2(1e-4*t)/1e11\n",
    "\n",
    "def approx_gradient_x(f, x, dx=1e-6):\n",
    "    return (f(x+dx)-f(x-dx)) / (2 * dx)\n",
    "\n",
    "def gradient_descent_x(f, xstart, tolerance=1e-9):\n",
    "    x = xstart\n",
    "    grad = approx_gradient_x(f, x)\n",
    "    while abs(grad) > tolerance:\n",
    "        x -= 0.01*grad\n",
    "        grad = approx_gradient_x(f, x)\n",
    "    return x\n",
    "    "
   ]
  },
  {
   "cell_type": "code",
   "execution_count": 196,
   "id": "00ee9f83-2726-4994-ad8a-9274cd4b34db",
   "metadata": {},
   "outputs": [
    {
     "data": {
      "text/plain": [
       "-1.1160219639153138e-05"
      ]
     },
     "execution_count": 196,
     "metadata": {},
     "output_type": "execute_result"
    }
   ],
   "source": [
    "gradient_descent_x(scaled_exponential_cost2, -0.11)*1e-4"
   ]
  },
  {
   "cell_type": "code",
   "execution_count": null,
   "id": "ed5cae7d-388e-481a-9a58-fbc245e0d8c8",
   "metadata": {},
   "outputs": [],
   "source": []
  }
 ],
 "metadata": {
  "kernelspec": {
   "display_name": "Python 3 (ipykernel)",
   "language": "python",
   "name": "python3"
  },
  "language_info": {
   "codemirror_mode": {
    "name": "ipython",
    "version": 3
   },
   "file_extension": ".py",
   "mimetype": "text/x-python",
   "name": "python",
   "nbconvert_exporter": "python",
   "pygments_lexer": "ipython3",
   "version": "3.12.4"
  }
 },
 "nbformat": 4,
 "nbformat_minor": 5
}
