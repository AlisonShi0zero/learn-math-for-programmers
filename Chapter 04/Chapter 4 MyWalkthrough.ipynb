{
 "cells": [
  {
   "cell_type": "code",
   "execution_count": 1,
   "id": "e1b42958-c241-4ace-a02d-e20f39856089",
   "metadata": {},
   "outputs": [
    {
     "name": "stdout",
     "output_type": "stream",
     "text": [
      "pygame 2.6.1 (SDL 2.28.4, Python 3.12.4)\n",
      "Hello from the pygame community. https://www.pygame.org/contribute.html\n"
     ]
    }
   ],
   "source": [
    "!python draw_teapot.py"
   ]
  },
  {
   "cell_type": "code",
   "execution_count": 2,
   "id": "98713c1d-cfec-4cdf-b36f-8411e7455615",
   "metadata": {},
   "outputs": [
    {
     "name": "stdout",
     "output_type": "stream",
     "text": [
      "pygame 2.6.1 (SDL 2.28.4, Python 3.12.4)\n",
      "Hello from the pygame community. https://www.pygame.org/contribute.html\n"
     ]
    }
   ],
   "source": [
    "!python scale_teapot.py"
   ]
  },
  {
   "cell_type": "code",
   "execution_count": 3,
   "id": "7afdfddb-c7c8-4f41-9062-0e6fa5a547df",
   "metadata": {},
   "outputs": [
    {
     "name": "stdout",
     "output_type": "stream",
     "text": [
      "pygame 2.6.1 (SDL 2.28.4, Python 3.12.4)\n",
      "Hello from the pygame community. https://www.pygame.org/contribute.html\n"
     ]
    }
   ],
   "source": [
    "from teapot import load_triangles\n",
    "from draw_model import draw_model"
   ]
  },
  {
   "cell_type": "code",
   "execution_count": 30,
   "id": "bb293aa2-beab-4d91-a7da-9b3a28a4874c",
   "metadata": {},
   "outputs": [],
   "source": [
    "from vectors import to_polar, to_cartesian, scale, add\n",
    "\n",
    "def scale2(v):\n",
    "    return scale(2.0, v)\n",
    "\n",
    "def translate1left(v):\n",
    "    return add((-1,0,0), v)"
   ]
  },
  {
   "cell_type": "code",
   "execution_count": 5,
   "id": "6d9f51d9-f54b-4791-9476-2366ca4b2756",
   "metadata": {},
   "outputs": [],
   "source": [
    "def scale2_then_tranlate1left(v):\n",
    "    return translete1left(scale2(v))"
   ]
  },
  {
   "cell_type": "code",
   "execution_count": 6,
   "id": "3eda7407-5d97-4406-8b85-9191033a982b",
   "metadata": {},
   "outputs": [],
   "source": [
    "def polygon_map(transformation, polygons):\n",
    "    return [\n",
    "        [transformation(vertex) for vertex in triangle]\n",
    "        for triangle in polygons\n",
    "    ]\n"
   ]
  },
  {
   "cell_type": "code",
   "execution_count": 7,
   "id": "77c904f7-36e6-4c25-90ac-129b5133e62b",
   "metadata": {},
   "outputs": [],
   "source": [
    "def scale_by(scalar):\n",
    "    def new_function(scalar, v):\n",
    "        return scale(scalar, v)\n",
    "    return new_function"
   ]
  },
  {
   "cell_type": "code",
   "execution_count": 8,
   "id": "450c29d9-2404-434d-905d-14f0418ebcdb",
   "metadata": {},
   "outputs": [],
   "source": [
    "def translate_by(w):\n",
    "    def new_function(w, v):\n",
    "        return add(w, v)\n",
    "    return new_funciton"
   ]
  },
  {
   "cell_type": "code",
   "execution_count": 9,
   "id": "fd18e605-ab88-42ca-80f0-6e512a762d43",
   "metadata": {},
   "outputs": [],
   "source": [
    "def compose(f1, f2):\n",
    "    def new_function(input):\n",
    "        return f1(f2(input))\n",
    "    return new_function"
   ]
  },
  {
   "cell_type": "code",
   "execution_count": 34,
   "id": "dfd381ff-994b-44e7-a7bc-acff7468e7d2",
   "metadata": {},
   "outputs": [],
   "source": [
    "def rotate2d(angle, vector):\n",
    "    l, a = to_polar(vector)\n",
    "    return to_cartesian((l, a+angle))\n",
    "\n",
    "def rotate_z(angle, vector):\n",
    "    x, y, z = vector\n",
    "    new_x, new_y = rotate2d(angle, (x, y))\n",
    "    return new_x, new_y, z\n",
    "\n",
    "def rotate_z_by(angle):\n",
    "    def new_function(vector):\n",
    "        return rotate_z(angle, vector)\n",
    "    return new_function"
   ]
  },
  {
   "cell_type": "code",
   "execution_count": 26,
   "id": "1cf4396b-c1b9-4ddf-ab97-c71f435e2328",
   "metadata": {},
   "outputs": [],
   "source": [
    "def rotate_x(angle, vector):\n",
    "    x, y, z = vector\n",
    "    new_y, new_z = rotate2d(angle, (y, z))\n",
    "    return x, new_y, new_z\n",
    "\n",
    "def rotate_x_by(angle):\n",
    "    def new_function(vector):\n",
    "        return rotate_x(angle, vector)\n",
    "    return new_function"
   ]
  },
  {
   "cell_type": "code",
   "execution_count": 12,
   "id": "979062eb-b230-410d-9f41-c3e341334c73",
   "metadata": {},
   "outputs": [],
   "source": [
    "def stretch_x(vector):\n",
    "    x, y, z = vector\n",
    "    return (4.*x, y, z)"
   ]
  },
  {
   "cell_type": "code",
   "execution_count": 13,
   "id": "06222185-e171-418d-98ac-a61b724fd940",
   "metadata": {},
   "outputs": [],
   "source": [
    "def cube_stretch_z(vector):\n",
    "    x, y, z = vector\n",
    "    return (x, y*y*y, z)"
   ]
  },
  {
   "cell_type": "code",
   "execution_count": 14,
   "id": "930d7ff2-0f69-475c-9727-2661b8b57a60",
   "metadata": {},
   "outputs": [],
   "source": [
    "def slant_xy(vector):\n",
    "    x, y, z = vector\n",
    "    return (x+y, y, z)"
   ]
  },
  {
   "cell_type": "code",
   "execution_count": 15,
   "id": "de0b47ad-310f-4faf-8aec-42a4b69382c3",
   "metadata": {},
   "outputs": [],
   "source": [
    "def translate_by(translation):\n",
    "    def new_function(v):\n",
    "        return add(translation, v)\n",
    "    return new_function"
   ]
  },
  {
   "cell_type": "code",
   "execution_count": 16,
   "id": "68d6e99a-1ce9-44f0-956d-f81b2c01a34e",
   "metadata": {},
   "outputs": [],
   "source": [
    "#draw_model(polygon_map(translate_by((0,0,-20)), load_triangles()))"
   ]
  },
  {
   "cell_type": "code",
   "execution_count": 17,
   "id": "6f838b22-8d13-4da9-bd29-2b8873c5bf80",
   "metadata": {},
   "outputs": [],
   "source": [
    "#draw_model(polygon_map(scale_by(0.5), load_triangles()))"
   ]
  },
  {
   "cell_type": "code",
   "execution_count": 18,
   "id": "c90dd87b-2321-4b25-a43e-bca701295f31",
   "metadata": {},
   "outputs": [],
   "source": [
    "#draw_model(polygon_map(scale_by(-1), load_triangles()))"
   ]
  },
  {
   "cell_type": "code",
   "execution_count": 19,
   "id": "e96e6215-0a56-4303-b58d-900a556e76be",
   "metadata": {},
   "outputs": [],
   "source": [
    "def compose(*args):\n",
    "    def new_function(input):\n",
    "        state = input\n",
    "        for f in reversed(args):\n",
    "            state = f(state)\n",
    "        return state\n",
    "    return new_function"
   ]
  },
  {
   "cell_type": "code",
   "execution_count": 20,
   "id": "f488d82f-5a61-4caa-96ca-00b69d472886",
   "metadata": {},
   "outputs": [
    {
     "data": {
      "text/plain": [
       "'Python'"
      ]
     },
     "execution_count": 20,
     "metadata": {},
     "output_type": "execute_result"
    }
   ],
   "source": [
    "def prepend(string):\n",
    "    def new_function(input):\n",
    "        return string+input\n",
    "    return new_function\n",
    "compose(prepend('P'), prepend('y'), prepend('t'), prepend('h'))('on')"
   ]
  },
  {
   "cell_type": "code",
   "execution_count": 21,
   "id": "34da40c4-8da9-4719-b4cb-b4bbaf5d8e3d",
   "metadata": {},
   "outputs": [
    {
     "data": {
      "text/plain": [
       "(2, 4, 6)"
      ]
     },
     "execution_count": 21,
     "metadata": {},
     "output_type": "execute_result"
    }
   ],
   "source": [
    "def curry2(f):\n",
    "    def new_function(x):\n",
    "        def new_function2(y):\n",
    "            return f(x, y)\n",
    "        return new_function2\n",
    "    return new_function\n",
    "\n",
    "scale_by = curry2(scale)\n",
    "scale_by(2)((1,2,3))"
   ]
  },
  {
   "cell_type": "code",
   "execution_count": 22,
   "id": "6dcc7586-8501-483a-bfcb-e6184dafdb67",
   "metadata": {},
   "outputs": [],
   "source": [
    "def stretch_x(scalar, vector):\n",
    "    x,y,z = vector\n",
    "    return (scalar*x, y, z)\n",
    "\n",
    "def stretch_x_by(scalar):\n",
    "    def new_function(vector):\n",
    "        return stretch_x(scalar, vector)\n",
    "    return new_function"
   ]
  },
  {
   "cell_type": "code",
   "execution_count": 23,
   "id": "030f906f-4559-458f-b8df-94fe4e89903a",
   "metadata": {},
   "outputs": [
    {
     "data": {
      "text/plain": [
       "(1, 2, 3)"
      ]
     },
     "execution_count": 23,
     "metadata": {},
     "output_type": "execute_result"
    }
   ],
   "source": [
    "def linear_combination(scalars, *vectors):\n",
    "    scaled = [scale(s, v) for s,v in zip(scalars, vectors)]\n",
    "    return add(*scaled)\n",
    "\n",
    "linear_combination([1,2,3], (1,0,0), (0,1,0), (0,0,1))"
   ]
  },
  {
   "cell_type": "code",
   "execution_count": 24,
   "id": "684b2fb0-6446-4f89-8e99-8e6c961302f6",
   "metadata": {},
   "outputs": [],
   "source": [
    "def transform_standard_basis(transform):\n",
    "    return(transform((1,0,0)), transform((0,1,0)), transform((0,0,1)))"
   ]
  },
  {
   "cell_type": "code",
   "execution_count": 36,
   "id": "a3f30ed7-2bd5-4db8-b75b-ef13c3012de2",
   "metadata": {},
   "outputs": [
    {
     "data": {
      "text/plain": [
       "((1, 0.0, 0.0),\n",
       " (0, 6.123233995736766e-17, 1.0),\n",
       " (0, -1.0, 1.2246467991473532e-16))"
      ]
     },
     "execution_count": 36,
     "metadata": {},
     "output_type": "execute_result"
    }
   ],
   "source": [
    "from math import pi\n",
    "transform_standard_basis(rotate_x_by(pi/2))"
   ]
  },
  {
   "cell_type": "code",
   "execution_count": 38,
   "id": "70e8a200-4836-4e30-a3dc-02ad87ed9873",
   "metadata": {},
   "outputs": [],
   "source": [
    "from hypothesis import given, strategies as st"
   ]
  },
  {
   "cell_type": "code",
   "execution_count": null,
   "id": "8ee95f82-bc65-4a87-9afa-7fcf241ff0e1",
   "metadata": {},
   "outputs": [],
   "source": []
  }
 ],
 "metadata": {
  "kernelspec": {
   "display_name": "Python 3 (ipykernel)",
   "language": "python",
   "name": "python3"
  },
  "language_info": {
   "codemirror_mode": {
    "name": "ipython",
    "version": 3
   },
   "file_extension": ".py",
   "mimetype": "text/x-python",
   "name": "python",
   "nbconvert_exporter": "python",
   "pygments_lexer": "ipython3",
   "version": "3.12.4"
  }
 },
 "nbformat": 4,
 "nbformat_minor": 5
}
