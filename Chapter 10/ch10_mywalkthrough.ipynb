{
 "cells": [
  {
   "cell_type": "code",
   "execution_count": 1,
   "id": "d0c45243-d7a9-4937-8148-3ff2989f28de",
   "metadata": {},
   "outputs": [],
   "source": [
    "from math import sin\n",
    "\n",
    "def f(x):\n",
    "    return (3*x**2 + 2) * sin(x)"
   ]
  },
  {
   "cell_type": "code",
   "execution_count": 2,
   "id": "e2b8e479-cf4c-4519-ab88-1aefc41b3cc2",
   "metadata": {},
   "outputs": [],
   "source": [
    "class Power():\n",
    "    def __init__(self, base, exponent):\n",
    "        self.base = base\n",
    "        self.exponent = exponent"
   ]
  },
  {
   "cell_type": "code",
   "execution_count": 3,
   "id": "3b9c947f-2fe2-4774-b426-25a5642c6a19",
   "metadata": {},
   "outputs": [],
   "source": [
    "class Number():\n",
    "    def __init__(self, number):\n",
    "        self.number = number"
   ]
  },
  {
   "cell_type": "code",
   "execution_count": 4,
   "id": "13efeadb-9796-453c-b7b0-09b6b0f95dc1",
   "metadata": {},
   "outputs": [],
   "source": [
    "class Variable():\n",
    "    def __init__(self, symbol):\n",
    "        self.symbol = symbol"
   ]
  },
  {
   "cell_type": "code",
   "execution_count": 5,
   "id": "9d5e580f-d620-47dd-b568-cb168c3f5cef",
   "metadata": {},
   "outputs": [
    {
     "data": {
      "text/plain": [
       "<__main__.Power at 0x1106166f0>"
      ]
     },
     "execution_count": 5,
     "metadata": {},
     "output_type": "execute_result"
    }
   ],
   "source": [
    "Power(Variable(\"x\"), Number(2))"
   ]
  },
  {
   "cell_type": "code",
   "execution_count": 6,
   "id": "a5be1b65-bbb1-4a43-8b08-0671d1126bca",
   "metadata": {},
   "outputs": [],
   "source": [
    "class Product():\n",
    "    def __init__(self, exp1, exp2):\n",
    "        self.exp1 = exp1\n",
    "        self.exp2 = exp2"
   ]
  },
  {
   "cell_type": "code",
   "execution_count": 7,
   "id": "c96ce891-c5ae-4c32-a38c-8f4532686bab",
   "metadata": {},
   "outputs": [
    {
     "data": {
      "text/plain": [
       "<__main__.Product at 0x1106410a0>"
      ]
     },
     "execution_count": 7,
     "metadata": {},
     "output_type": "execute_result"
    }
   ],
   "source": [
    "Product(3, Power(Variable(\"x\"), Number(2)))"
   ]
  },
  {
   "cell_type": "code",
   "execution_count": 8,
   "id": "41c59018-cb24-4c80-95ac-8a6f8f6e5a4b",
   "metadata": {},
   "outputs": [],
   "source": [
    "class Sum():\n",
    "    def __init__(self, *exps):\n",
    "        self.exps = exps"
   ]
  },
  {
   "cell_type": "code",
   "execution_count": 9,
   "id": "b6232b53-7b72-4a86-8d8a-34712e866dd8",
   "metadata": {},
   "outputs": [],
   "source": [
    "class Function():\n",
    "    def __init__(self, name):\n",
    "        self.name = name"
   ]
  },
  {
   "cell_type": "code",
   "execution_count": 10,
   "id": "0de50175-d133-4065-a402-9384852d03fd",
   "metadata": {},
   "outputs": [],
   "source": [
    "class Apply():\n",
    "    def __init__(self, function, argument):\n",
    "        self.function = function\n",
    "        self.argument = argument"
   ]
  },
  {
   "cell_type": "code",
   "execution_count": 11,
   "id": "16985681-0702-4e19-ac90-a978e61b17f0",
   "metadata": {},
   "outputs": [],
   "source": [
    "f_expression = Product(\n",
    "    Sum(\n",
    "        Product(\n",
    "            Number(3),\n",
    "            Power(Variable(\"x\"), Number(2))\n",
    "        ),\n",
    "        Number(2)\n",
    "    ),\n",
    "    Apply(\n",
    "        Function(\"sin\"),\n",
    "        Variable(\"x\")\n",
    "    )\n",
    ")"
   ]
  },
  {
   "cell_type": "code",
   "execution_count": 12,
   "id": "7ef68351-0d16-43a4-86e7-2f85421aca0e",
   "metadata": {},
   "outputs": [
    {
     "data": {
      "text/plain": [
       "<__main__.Apply at 0x1106426f0>"
      ]
     },
     "execution_count": 12,
     "metadata": {},
     "output_type": "execute_result"
    }
   ],
   "source": [
    "def f(y, z):\n",
    "    return log(y**z)\n",
    "\n",
    "Apply(Function(\"ln\"), Power(Variable(\"y\"), Variable(\"z\")))"
   ]
  },
  {
   "cell_type": "code",
   "execution_count": 13,
   "id": "93db7adf-5793-4513-9633-14ee61164f4b",
   "metadata": {},
   "outputs": [],
   "source": [
    "class Quotient():\n",
    "    def __init__(self, numerator, denumerator):\n",
    "        self.numerator = numerator\n",
    "        self.denumerator = denumerator"
   ]
  },
  {
   "cell_type": "code",
   "execution_count": 14,
   "id": "2c15f58c-629c-470b-af43-36d89c2c56d2",
   "metadata": {},
   "outputs": [],
   "source": [
    "class Difference():\n",
    "    def __init__(self, exp1, exp2):\n",
    "        self.exp1 = exp1\n",
    "        self.exp2 = exp2"
   ]
  },
  {
   "cell_type": "code",
   "execution_count": 15,
   "id": "38cbcd7c-93d4-4f51-9465-68e5b806c70d",
   "metadata": {},
   "outputs": [
    {
     "data": {
      "text/plain": [
       "<__main__.Difference at 0x110643770>"
      ]
     },
     "execution_count": 15,
     "metadata": {},
     "output_type": "execute_result"
    }
   ],
   "source": [
    "Difference(Power(Variable(\"b\"), Number(2)), Product(Number(4), Product(Variable(\"a\"), Variable(\"c\"))))"
   ]
  },
  {
   "cell_type": "markdown",
   "id": "1b07a080-6a1d-4f5b-9fa8-4976675a96b1",
   "metadata": {},
   "source": [
    "## 为什么\"Negative\" 不定义为Function, 而是一个组合器"
   ]
  },
  {
   "cell_type": "code",
   "execution_count": 17,
   "id": "ce93adfa-7a3f-483b-871e-474f1c636766",
   "metadata": {},
   "outputs": [],
   "source": [
    "class Negative():\n",
    "    def __init__(self, exp):\n",
    "        self.exp = exp"
   ]
  },
  {
   "cell_type": "code",
   "execution_count": 18,
   "id": "a5d7effc-8d43-4cd5-8fff-fc4d501e2e4f",
   "metadata": {},
   "outputs": [
    {
     "data": {
      "text/plain": [
       "<__main__.Negative at 0x13c229f70>"
      ]
     },
     "execution_count": 18,
     "metadata": {},
     "output_type": "execute_result"
    }
   ],
   "source": [
    "Negative(Sum(Power(Variable(\"x\"), Number(2)), Variable(\"y\")))"
   ]
  },
  {
   "cell_type": "code",
   "execution_count": 19,
   "id": "bc967cf1-0140-4301-9f04-8f47983be87b",
   "metadata": {},
   "outputs": [
    {
     "data": {
      "text/plain": [
       "<__main__.Quotient at 0x13c22a8d0>"
      ]
     },
     "execution_count": 19,
     "metadata": {},
     "output_type": "execute_result"
    }
   ],
   "source": [
    "Sqrt = Function(\"sqrt\")\n",
    "A = Variable(\"a\")\n",
    "B = Variable(\"b\")\n",
    "C = Variable(\"c\")\n",
    "\n",
    "Quotient(\n",
    "    Sum(\n",
    "        Negative(B),\n",
    "        Apply(\n",
    "            Sqrt,\n",
    "            Difference(\n",
    "                Power(B, Number(2)),\n",
    "                Product(Number(4), Product(A, C))\n",
    "            )\n",
    "        )\n",
    "    ),\n",
    "    Product(Number(2), A)\n",
    ")"
   ]
  },
  {
   "cell_type": "code",
   "execution_count": 3,
   "id": "1b12bfec-09eb-49b5-bebe-5fb262a2befa",
   "metadata": {},
   "outputs": [],
   "source": [
    "from sympy import *"
   ]
  },
  {
   "cell_type": "code",
   "execution_count": 5,
   "id": "b9374880-a6ab-4597-9ce7-2f44c34865cd",
   "metadata": {},
   "outputs": [],
   "source": [
    "from sympy.core.core import *"
   ]
  },
  {
   "cell_type": "code",
   "execution_count": 9,
   "id": "97a765c9-805e-4512-89d6-56c316c0394b",
   "metadata": {},
   "outputs": [
    {
     "data": {
      "text/latex": [
       "$\\displaystyle y \\left(x + 3\\right)$"
      ],
      "text/plain": [
       "y*(x + 3)"
      ]
     },
     "execution_count": 9,
     "metadata": {},
     "output_type": "execute_result"
    }
   ],
   "source": [
    "Mul(Symbol(\"y\"), Add(3, Symbol(\"x\")))"
   ]
  },
  {
   "cell_type": "code",
   "execution_count": 11,
   "id": "ecbfc646-e828-43ff-b151-181f868c4d20",
   "metadata": {},
   "outputs": [],
   "source": [
    "y = Symbol('y')"
   ]
  },
  {
   "cell_type": "code",
   "execution_count": 13,
   "id": "0140c582-1bc0-44c6-9ff1-da5929638346",
   "metadata": {},
   "outputs": [],
   "source": [
    "x = Symbol('x')"
   ]
  },
  {
   "cell_type": "code",
   "execution_count": 15,
   "id": "967fdbbe-8aed-4fe5-9283-e2662035eeb5",
   "metadata": {},
   "outputs": [
    {
     "data": {
      "text/latex": [
       "$\\displaystyle 4 y$"
      ],
      "text/plain": [
       "4*y"
      ]
     },
     "execution_count": 15,
     "metadata": {},
     "output_type": "execute_result"
    }
   ],
   "source": [
    "y*(3+x).subs(x, 1)"
   ]
  },
  {
   "cell_type": "code",
   "execution_count": 17,
   "id": "a5fce4fd-fa7f-4284-bc20-190c8df8d20a",
   "metadata": {},
   "outputs": [
    {
     "data": {
      "text/latex": [
       "$\\displaystyle 2 x$"
      ],
      "text/plain": [
       "2*x"
      ]
     },
     "execution_count": 17,
     "metadata": {},
     "output_type": "execute_result"
    }
   ],
   "source": [
    "(x**2).diff(x)"
   ]
  },
  {
   "cell_type": "code",
   "execution_count": 19,
   "id": "e02f45fe-cd46-427b-b812-4e35b3a31745",
   "metadata": {},
   "outputs": [
    {
     "data": {
      "text/latex": [
       "$\\displaystyle x^{3}$"
      ],
      "text/plain": [
       "x**3"
      ]
     },
     "execution_count": 19,
     "metadata": {},
     "output_type": "execute_result"
    }
   ],
   "source": [
    "(3*x**2).integrate(x)"
   ]
  },
  {
   "cell_type": "code",
   "execution_count": 25,
   "id": "5787dcd8-7e06-41a4-85e1-1b812c981772",
   "metadata": {},
   "outputs": [
    {
     "data": {
      "text/latex": [
       "$\\displaystyle 0$"
      ],
      "text/plain": [
       "0"
      ]
     },
     "execution_count": 25,
     "metadata": {},
     "output_type": "execute_result"
    }
   ],
   "source": [
    "Integer(0).integrate(x)"
   ]
  },
  {
   "cell_type": "code",
   "execution_count": 27,
   "id": "c01091a6-690d-4685-bd34-d1fb359119fb",
   "metadata": {},
   "outputs": [
    {
     "data": {
      "text/latex": [
       "$\\displaystyle x \\sin{\\left(x \\right)} + \\cos{\\left(x \\right)}$"
      ],
      "text/plain": [
       "x*sin(x) + cos(x)"
      ]
     },
     "execution_count": 27,
     "metadata": {},
     "output_type": "execute_result"
    }
   ],
   "source": [
    "(x*cos(x)).integrate(x)"
   ]
  },
  {
   "cell_type": "code",
   "execution_count": 29,
   "id": "65d47258-1e11-4f10-b264-b948a45de3c5",
   "metadata": {},
   "outputs": [
    {
     "data": {
      "text/latex": [
       "$\\displaystyle \\frac{x^{3}}{3}$"
      ],
      "text/plain": [
       "x**3/3"
      ]
     },
     "execution_count": 29,
     "metadata": {},
     "output_type": "execute_result"
    }
   ],
   "source": [
    "(x**2).integrate(x)"
   ]
  },
  {
   "cell_type": "code",
   "execution_count": null,
   "id": "5d384f6b-9180-4231-aa44-22d44575bdbc",
   "metadata": {},
   "outputs": [],
   "source": []
  }
 ],
 "metadata": {
  "kernelspec": {
   "display_name": "Python 3 (ipykernel)",
   "language": "python",
   "name": "python3"
  },
  "language_info": {
   "codemirror_mode": {
    "name": "ipython",
    "version": 3
   },
   "file_extension": ".py",
   "mimetype": "text/x-python",
   "name": "python",
   "nbconvert_exporter": "python",
   "pygments_lexer": "ipython3",
   "version": "3.12.4"
  }
 },
 "nbformat": 4,
 "nbformat_minor": 5
}
